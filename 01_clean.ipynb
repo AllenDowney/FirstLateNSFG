{
 "cells": [
  {
   "cell_type": "markdown",
   "metadata": {},
   "source": [
    "# Are first babies more likely to be late?\n",
    "\n",
    "Copyright 2019 Allen Downey\n",
    "\n",
    "License: [Creative Commons Attribution 4.0 International](http://creativecommons.org/licenses/by/4.0/)"
   ]
  },
  {
   "cell_type": "code",
   "execution_count": 1,
   "metadata": {},
   "outputs": [],
   "source": [
    "%matplotlib inline\n",
    "\n",
    "import pandas as pd\n",
    "import numpy as np\n",
    "import seaborn as sns\n",
    "import matplotlib.pyplot as plt\n",
    "\n",
    "from utils import read_stata_dict\n",
    "from utils import values\n",
    "from utils import resample_rows_weighted"
   ]
  },
  {
   "cell_type": "code",
   "execution_count": 2,
   "metadata": {},
   "outputs": [],
   "source": [
    "def read_preg_file(dct_file, dat_file, usecols):\n",
    "    \"\"\"Reads the NSFG pregnancy data.\n",
    "\n",
    "    dct_file: string file name\n",
    "    dat_file: string file name\n",
    "\n",
    "    returns: DataFrame\n",
    "    \"\"\"\n",
    "    dct = read_stata_dict(dct_file, encoding='ISO-8859-1')\n",
    "    df = dct.read_fixed_width(dat_file, compression='gzip', usecols=usecols)\n",
    "    return df"
   ]
  },
  {
   "cell_type": "markdown",
   "metadata": {},
   "source": [
    "Cycle 10"
   ]
  },
  {
   "cell_type": "code",
   "execution_count": 3,
   "metadata": {},
   "outputs": [
    {
     "name": "stdout",
     "output_type": "stream",
     "text": [
      "(9553, 6)\n"
     ]
    }
   ],
   "source": [
    "usecols = ['birthord', 'outcome', 'prglngth', 'pregend1', 'nbrnaliv', 'wgt2015_2017']\n",
    "df = read_preg_file('2015_2017_FemPregSetup.dct', '2015_2017_FemPregData.dat.gz', usecols)\n",
    "df.rename(columns={'wgt2015_2017': 'finalwgt'}, inplace=True)\n",
    "print(df.shape)"
   ]
  },
  {
   "cell_type": "code",
   "execution_count": 4,
   "metadata": {},
   "outputs": [
    {
     "data": {
      "text/plain": [
       "1    6693\n",
       "2     901\n",
       "3     120\n",
       "4    1515\n",
       "5     123\n",
       "6     201\n",
       "Name: outcome, dtype: int64"
      ]
     },
     "execution_count": 4,
     "metadata": {},
     "output_type": "execute_result"
    }
   ],
   "source": [
    "values(df['outcome'])"
   ]
  },
  {
   "cell_type": "code",
   "execution_count": 5,
   "metadata": {},
   "outputs": [
    {
     "data": {
      "text/plain": [
       "0        5\n",
       "1        7\n",
       "2       46\n",
       "3       77\n",
       "4      250\n",
       "5      142\n",
       "6      421\n",
       "7      153\n",
       "8      282\n",
       "9      335\n",
       "10     154\n",
       "11      76\n",
       "12     139\n",
       "13     237\n",
       "14      38\n",
       "15      32\n",
       "16      41\n",
       "17     100\n",
       "18      12\n",
       "19      20\n",
       "20      27\n",
       "21      16\n",
       "22      54\n",
       "23      13\n",
       "24      17\n",
       "25      14\n",
       "26      69\n",
       "27      17\n",
       "28      27\n",
       "29      11\n",
       "30      87\n",
       "31      33\n",
       "32     104\n",
       "33      47\n",
       "34     105\n",
       "35     191\n",
       "36     276\n",
       "37     423\n",
       "38     776\n",
       "39    2440\n",
       "40    1521\n",
       "41     438\n",
       "42     215\n",
       "43      56\n",
       "44       8\n",
       "49       1\n",
       "Name: prglngth, dtype: int64"
      ]
     },
     "execution_count": 5,
     "metadata": {},
     "output_type": "execute_result"
    }
   ],
   "source": [
    "values(df['prglngth'])"
   ]
  },
  {
   "cell_type": "code",
   "execution_count": 6,
   "metadata": {},
   "outputs": [
    {
     "data": {
      "text/plain": [
       "1.0    1523\n",
       "2.0     116\n",
       "3.0     885\n",
       "4.0     125\n",
       "5.0    1865\n",
       "6.0    4814\n",
       "8.0      12\n",
       "9.0       6\n",
       "Name: pregend1, dtype: int64"
      ]
     },
     "execution_count": 6,
     "metadata": {},
     "output_type": "execute_result"
    }
   ],
   "source": [
    "values(df['pregend1'])"
   ]
  },
  {
   "cell_type": "code",
   "execution_count": 7,
   "metadata": {},
   "outputs": [
    {
     "data": {
      "text/plain": [
       "1.0     3150\n",
       "2.0     2107\n",
       "3.0      941\n",
       "4.0      325\n",
       "5.0      104\n",
       "6.0       38\n",
       "7.0       13\n",
       "8.0        5\n",
       "9.0        2\n",
       "10.0       2\n",
       "11.0       2\n",
       "12.0       2\n",
       "13.0       1\n",
       "14.0       1\n",
       "Name: birthord, dtype: int64"
      ]
     },
     "execution_count": 7,
     "metadata": {},
     "output_type": "execute_result"
    }
   ],
   "source": [
    "values(df['birthord'])"
   ]
  },
  {
   "cell_type": "code",
   "execution_count": 8,
   "metadata": {},
   "outputs": [
    {
     "data": {
      "text/plain": [
       "count      9553.000000\n",
       "mean      13337.425944\n",
       "std       16138.878271\n",
       "min        1924.916000\n",
       "25%        4575.221221\n",
       "50%        7292.490835\n",
       "75%       15724.902673\n",
       "max      106774.400000\n",
       "Name: finalwgt, dtype: float64"
      ]
     },
     "execution_count": 8,
     "metadata": {},
     "output_type": "execute_result"
    }
   ],
   "source": [
    "df['finalwgt'].describe()"
   ]
  },
  {
   "cell_type": "code",
   "execution_count": 9,
   "metadata": {},
   "outputs": [],
   "source": [
    "preg10 = df"
   ]
  },
  {
   "cell_type": "markdown",
   "metadata": {},
   "source": [
    "Cycle 9"
   ]
  },
  {
   "cell_type": "code",
   "execution_count": 10,
   "metadata": {},
   "outputs": [
    {
     "name": "stdout",
     "output_type": "stream",
     "text": [
      "(9358, 6)\n"
     ]
    }
   ],
   "source": [
    "usecols = ['birthord', 'outcome', 'prglngth', 'pregend1', 'nbrnaliv', 'wgt2013_2015']\n",
    "df = read_preg_file('2013_2015_FemPregSetup.dct', '2013_2015_FemPregData.dat.gz', usecols)\n",
    "df.rename(columns={'wgt2013_2015': 'finalwgt'}, inplace=True)\n",
    "print(df.shape)"
   ]
  },
  {
   "cell_type": "code",
   "execution_count": 11,
   "metadata": {},
   "outputs": [
    {
     "data": {
      "text/plain": [
       "1    6489\n",
       "2     947\n",
       "3      86\n",
       "4    1469\n",
       "5     118\n",
       "6     249\n",
       "Name: outcome, dtype: int64"
      ]
     },
     "execution_count": 11,
     "metadata": {},
     "output_type": "execute_result"
    }
   ],
   "source": [
    "values(df['outcome'])"
   ]
  },
  {
   "cell_type": "code",
   "execution_count": 12,
   "metadata": {},
   "outputs": [
    {
     "data": {
      "text/plain": [
       "0        7\n",
       "1       11\n",
       "2       50\n",
       "3      102\n",
       "4      274\n",
       "5      128\n",
       "6      375\n",
       "7      185\n",
       "8      299\n",
       "9      331\n",
       "10     125\n",
       "11      82\n",
       "12     132\n",
       "13     222\n",
       "14      39\n",
       "15      27\n",
       "16      40\n",
       "17      85\n",
       "18      25\n",
       "19      25\n",
       "20      21\n",
       "21       9\n",
       "22      76\n",
       "23       7\n",
       "24      25\n",
       "25      13\n",
       "26      58\n",
       "27      17\n",
       "28      39\n",
       "29      25\n",
       "30      95\n",
       "31      15\n",
       "32     118\n",
       "33      35\n",
       "34      73\n",
       "35     239\n",
       "36     313\n",
       "37     432\n",
       "38     755\n",
       "39    2384\n",
       "40    1311\n",
       "41     422\n",
       "42     231\n",
       "43      65\n",
       "44       9\n",
       "45       3\n",
       "46       3\n",
       "48       1\n",
       "Name: prglngth, dtype: int64"
      ]
     },
     "execution_count": 12,
     "metadata": {},
     "output_type": "execute_result"
    }
   ],
   "source": [
    "values(df['prglngth'])"
   ]
  },
  {
   "cell_type": "code",
   "execution_count": 13,
   "metadata": {},
   "outputs": [
    {
     "data": {
      "text/plain": [
       "1.0    1473\n",
       "2.0      82\n",
       "3.0     936\n",
       "4.0     116\n",
       "5.0    1842\n",
       "6.0    4633\n",
       "8.0      16\n",
       "9.0       8\n",
       "Name: pregend1, dtype: int64"
      ]
     },
     "execution_count": 13,
     "metadata": {},
     "output_type": "execute_result"
    }
   ],
   "source": [
    "values(df['pregend1'])"
   ]
  },
  {
   "cell_type": "code",
   "execution_count": 14,
   "metadata": {},
   "outputs": [
    {
     "data": {
      "text/plain": [
       "1.0     3067\n",
       "2.0     2002\n",
       "3.0      937\n",
       "4.0      322\n",
       "5.0      106\n",
       "6.0       32\n",
       "7.0       14\n",
       "8.0        6\n",
       "9.0        2\n",
       "10.0       1\n",
       "Name: birthord, dtype: int64"
      ]
     },
     "execution_count": 14,
     "metadata": {},
     "output_type": "execute_result"
    }
   ],
   "source": [
    "values(df['birthord'])"
   ]
  },
  {
   "cell_type": "code",
   "execution_count": 15,
   "metadata": {},
   "outputs": [
    {
     "data": {
      "text/plain": [
       "count     9358.000000\n",
       "mean     10759.200147\n",
       "std      11400.179222\n",
       "min       1859.105000\n",
       "25%       4340.053407\n",
       "50%       7062.994158\n",
       "75%      12629.322982\n",
       "max      75399.410000\n",
       "Name: finalwgt, dtype: float64"
      ]
     },
     "execution_count": 15,
     "metadata": {},
     "output_type": "execute_result"
    }
   ],
   "source": [
    "df['finalwgt'].describe()"
   ]
  },
  {
   "cell_type": "code",
   "execution_count": 16,
   "metadata": {},
   "outputs": [],
   "source": [
    "preg09 = df"
   ]
  },
  {
   "cell_type": "markdown",
   "metadata": {},
   "source": [
    "Cycle 8"
   ]
  },
  {
   "cell_type": "code",
   "execution_count": 17,
   "metadata": {},
   "outputs": [
    {
     "name": "stdout",
     "output_type": "stream",
     "text": [
      "(9543, 6)\n"
     ]
    }
   ],
   "source": [
    "usecols = ['birthord', 'outcome', 'prglngth', 'pregend1', 'nbrnaliv', 'wgt2011_2013']\n",
    "df = read_preg_file('2011_2013_FemPregSetup.dct', '2011_2013_FemPregData.dat.gz', usecols)\n",
    "df.rename(columns={'wgt2011_2013': 'finalwgt'}, inplace=True)\n",
    "print(df.shape)"
   ]
  },
  {
   "cell_type": "code",
   "execution_count": 18,
   "metadata": {},
   "outputs": [
    {
     "data": {
      "text/plain": [
       "1    6670\n",
       "2     993\n",
       "3      71\n",
       "4    1451\n",
       "5     120\n",
       "6     238\n",
       "Name: outcome, dtype: int64"
      ]
     },
     "execution_count": 18,
     "metadata": {},
     "output_type": "execute_result"
    }
   ],
   "source": [
    "values(df['outcome'])"
   ]
  },
  {
   "cell_type": "code",
   "execution_count": 19,
   "metadata": {},
   "outputs": [
    {
     "data": {
      "text/plain": [
       "0       11\n",
       "1       10\n",
       "2       45\n",
       "3      115\n",
       "4      318\n",
       "5      132\n",
       "6      400\n",
       "7      127\n",
       "8      283\n",
       "9      332\n",
       "10     111\n",
       "11      79\n",
       "12     138\n",
       "13     226\n",
       "14      32\n",
       "15      32\n",
       "16      32\n",
       "17      90\n",
       "18      15\n",
       "19      24\n",
       "20      21\n",
       "21      10\n",
       "22      89\n",
       "23      15\n",
       "24      29\n",
       "25      12\n",
       "26      61\n",
       "27      17\n",
       "28      25\n",
       "29      22\n",
       "30      80\n",
       "31      35\n",
       "32     103\n",
       "33      34\n",
       "34     104\n",
       "35     237\n",
       "36     290\n",
       "37     418\n",
       "38     710\n",
       "39    2590\n",
       "40    1310\n",
       "41     426\n",
       "42     277\n",
       "43      63\n",
       "44       8\n",
       "45       2\n",
       "46       1\n",
       "47       2\n",
       "Name: prglngth, dtype: int64"
      ]
     },
     "execution_count": 19,
     "metadata": {},
     "output_type": "execute_result"
    }
   ],
   "source": [
    "values(df['prglngth'])"
   ]
  },
  {
   "cell_type": "code",
   "execution_count": 20,
   "metadata": {},
   "outputs": [
    {
     "data": {
      "text/plain": [
       "1.0    1459\n",
       "2.0      69\n",
       "3.0     981\n",
       "4.0     121\n",
       "5.0    1861\n",
       "6.0    4795\n",
       "8.0       7\n",
       "9.0      12\n",
       "Name: pregend1, dtype: int64"
      ]
     },
     "execution_count": 20,
     "metadata": {},
     "output_type": "execute_result"
    }
   ],
   "source": [
    "values(df['pregend1'])"
   ]
  },
  {
   "cell_type": "code",
   "execution_count": 21,
   "metadata": {},
   "outputs": [
    {
     "data": {
      "text/plain": [
       "1.0    3141\n",
       "2.0    2076\n",
       "3.0     957\n",
       "4.0     327\n",
       "5.0     113\n",
       "6.0      34\n",
       "7.0      16\n",
       "8.0       5\n",
       "9.0       1\n",
       "Name: birthord, dtype: int64"
      ]
     },
     "execution_count": 21,
     "metadata": {},
     "output_type": "execute_result"
    }
   ],
   "source": [
    "values(df['birthord'])"
   ]
  },
  {
   "cell_type": "code",
   "execution_count": 22,
   "metadata": {},
   "outputs": [
    {
     "data": {
      "text/plain": [
       "count     9543.000000\n",
       "mean     11040.049389\n",
       "std      13033.547986\n",
       "min       1714.541000\n",
       "25%       3935.813218\n",
       "50%       6641.818091\n",
       "75%      12742.521135\n",
       "max      85207.950000\n",
       "Name: finalwgt, dtype: float64"
      ]
     },
     "execution_count": 22,
     "metadata": {},
     "output_type": "execute_result"
    }
   ],
   "source": [
    "df['finalwgt'].describe()"
   ]
  },
  {
   "cell_type": "code",
   "execution_count": 23,
   "metadata": {},
   "outputs": [],
   "source": [
    "preg08 = df"
   ]
  },
  {
   "cell_type": "markdown",
   "metadata": {},
   "source": [
    "Cycle 7"
   ]
  },
  {
   "cell_type": "code",
   "execution_count": 24,
   "metadata": {},
   "outputs": [
    {
     "name": "stdout",
     "output_type": "stream",
     "text": [
      "(20492, 6)\n"
     ]
    }
   ],
   "source": [
    "usecols = ['birthord', 'outcome', 'prglngth', 'pregend1', 'nbrnaliv', 'wgtq1q16']\n",
    "df = read_preg_file('2006_2010_FemPregSetup.dct', '2006_2010_FemPreg.dat.gz', usecols)\n",
    "df.rename(columns={'wgtq1q16': 'finalwgt'}, inplace=True)\n",
    "print(df.shape)"
   ]
  },
  {
   "cell_type": "code",
   "execution_count": 25,
   "metadata": {},
   "outputs": [
    {
     "data": {
      "text/plain": [
       "1    14292\n",
       "2     2295\n",
       "3      166\n",
       "4     2945\n",
       "5      278\n",
       "6      516\n",
       "Name: outcome, dtype: int64"
      ]
     },
     "execution_count": 25,
     "metadata": {},
     "output_type": "execute_result"
    }
   ],
   "source": [
    "values(df['outcome'])"
   ]
  },
  {
   "cell_type": "code",
   "execution_count": 26,
   "metadata": {},
   "outputs": [
    {
     "data": {
      "text/plain": [
       "0       11\n",
       "1       19\n",
       "2      117\n",
       "3      219\n",
       "4      561\n",
       "5      274\n",
       "6      896\n",
       "7      271\n",
       "8      513\n",
       "9      770\n",
       "10     275\n",
       "11     173\n",
       "12     248\n",
       "13     685\n",
       "14      79\n",
       "15      88\n",
       "16      53\n",
       "17     241\n",
       "18      36\n",
       "19      45\n",
       "20      39\n",
       "21      24\n",
       "22     174\n",
       "23      14\n",
       "24      45\n",
       "25      24\n",
       "26     151\n",
       "27      29\n",
       "28      59\n",
       "29      36\n",
       "30     248\n",
       "31      44\n",
       "32     173\n",
       "33      69\n",
       "34     164\n",
       "35     558\n",
       "36     636\n",
       "37     848\n",
       "38    1311\n",
       "39    6308\n",
       "40    2285\n",
       "41     910\n",
       "42     553\n",
       "43     185\n",
       "44      19\n",
       "45       3\n",
       "46       4\n",
       "48       3\n",
       "52       1\n",
       "57       1\n",
       "Name: prglngth, dtype: int64"
      ]
     },
     "execution_count": 26,
     "metadata": {},
     "output_type": "execute_result"
    }
   ],
   "source": [
    "values(df['prglngth'])"
   ]
  },
  {
   "cell_type": "code",
   "execution_count": 27,
   "metadata": {},
   "outputs": [
    {
     "data": {
      "text/plain": [
       "1.0     2958\n",
       "2.0      165\n",
       "3.0     2288\n",
       "4.0      281\n",
       "5.0     3420\n",
       "6.0    10849\n",
       "8.0        2\n",
       "9.0        5\n",
       "Name: pregend1, dtype: int64"
      ]
     },
     "execution_count": 27,
     "metadata": {},
     "output_type": "execute_result"
    }
   ],
   "source": [
    "values(df['pregend1'])"
   ]
  },
  {
   "cell_type": "code",
   "execution_count": 28,
   "metadata": {},
   "outputs": [
    {
     "data": {
      "text/plain": [
       "1.0     6683\n",
       "2.0     4415\n",
       "3.0     2030\n",
       "4.0      734\n",
       "5.0      269\n",
       "6.0      102\n",
       "7.0       36\n",
       "8.0       13\n",
       "9.0        7\n",
       "10.0       2\n",
       "11.0       1\n",
       "Name: birthord, dtype: int64"
      ]
     },
     "execution_count": 28,
     "metadata": {},
     "output_type": "execute_result"
    }
   ],
   "source": [
    "values(df['birthord'])"
   ]
  },
  {
   "cell_type": "code",
   "execution_count": 29,
   "metadata": {},
   "outputs": [
    {
     "data": {
      "text/plain": [
       "count    20492.000000\n",
       "mean      5195.422926\n",
       "std       5909.631184\n",
       "min         44.023984\n",
       "25%       1480.501506\n",
       "50%       2976.610130\n",
       "75%       6351.218612\n",
       "max      30226.354508\n",
       "Name: finalwgt, dtype: float64"
      ]
     },
     "execution_count": 29,
     "metadata": {},
     "output_type": "execute_result"
    }
   ],
   "source": [
    "df['finalwgt'].describe()"
   ]
  },
  {
   "cell_type": "code",
   "execution_count": 30,
   "metadata": {},
   "outputs": [],
   "source": [
    "preg07 = df"
   ]
  },
  {
   "cell_type": "markdown",
   "metadata": {},
   "source": [
    "Cycle 6"
   ]
  },
  {
   "cell_type": "code",
   "execution_count": 31,
   "metadata": {},
   "outputs": [
    {
     "name": "stdout",
     "output_type": "stream",
     "text": [
      "(13593, 6)\n"
     ]
    }
   ],
   "source": [
    "usecols = ['birthord', 'outcome', 'prglngth', 'pregend1', 'nbrnaliv', 'finalwgt']\n",
    "df = read_preg_file('2002FemPreg.dct', '2002FemPreg.dat.gz', usecols)\n",
    "print(df.shape)"
   ]
  },
  {
   "cell_type": "code",
   "execution_count": 32,
   "metadata": {},
   "outputs": [
    {
     "data": {
      "text/plain": [
       "1    9148\n",
       "2    1862\n",
       "3     120\n",
       "4    1921\n",
       "5     190\n",
       "6     352\n",
       "Name: outcome, dtype: int64"
      ]
     },
     "execution_count": 32,
     "metadata": {},
     "output_type": "execute_result"
    }
   ],
   "source": [
    "values(df['outcome'])"
   ]
  },
  {
   "cell_type": "code",
   "execution_count": 33,
   "metadata": {},
   "outputs": [
    {
     "data": {
      "text/plain": [
       "0       15\n",
       "1        9\n",
       "2       78\n",
       "3      151\n",
       "4      412\n",
       "5      181\n",
       "6      543\n",
       "7      175\n",
       "8      409\n",
       "9      594\n",
       "10     137\n",
       "11     202\n",
       "12     170\n",
       "13     446\n",
       "14      29\n",
       "15      39\n",
       "16      44\n",
       "17     253\n",
       "18      17\n",
       "19      34\n",
       "20      18\n",
       "21      37\n",
       "22     147\n",
       "23      12\n",
       "24      31\n",
       "25      15\n",
       "26     117\n",
       "27       8\n",
       "28      38\n",
       "29      23\n",
       "30     198\n",
       "31      29\n",
       "32     122\n",
       "33      50\n",
       "34      60\n",
       "35     357\n",
       "36     329\n",
       "37     457\n",
       "38     609\n",
       "39    4744\n",
       "40    1120\n",
       "41     591\n",
       "42     328\n",
       "43     148\n",
       "44      46\n",
       "45      10\n",
       "46       1\n",
       "47       1\n",
       "48       7\n",
       "50       2\n",
       "Name: prglngth, dtype: int64"
      ]
     },
     "execution_count": 33,
     "metadata": {},
     "output_type": "execute_result"
    }
   ],
   "source": [
    "values(df['prglngth'])"
   ]
  },
  {
   "cell_type": "code",
   "execution_count": 34,
   "metadata": {},
   "outputs": [
    {
     "data": {
      "text/plain": [
       "1.0    1921\n",
       "2.0     120\n",
       "3.0    1831\n",
       "4.0     187\n",
       "5.0    2015\n",
       "6.0    7129\n",
       "8.0      20\n",
       "9.0      18\n",
       "Name: pregend1, dtype: int64"
      ]
     },
     "execution_count": 34,
     "metadata": {},
     "output_type": "execute_result"
    }
   ],
   "source": [
    "values(df['pregend1'])"
   ]
  },
  {
   "cell_type": "code",
   "execution_count": 35,
   "metadata": {},
   "outputs": [
    {
     "data": {
      "text/plain": [
       "1.0     4413\n",
       "2.0     2874\n",
       "3.0     1234\n",
       "4.0      421\n",
       "5.0      126\n",
       "6.0       50\n",
       "7.0       20\n",
       "8.0        7\n",
       "9.0        2\n",
       "10.0       1\n",
       "Name: birthord, dtype: int64"
      ]
     },
     "execution_count": 35,
     "metadata": {},
     "output_type": "execute_result"
    }
   ],
   "source": [
    "values(df['birthord'])"
   ]
  },
  {
   "cell_type": "code",
   "execution_count": 36,
   "metadata": {},
   "outputs": [
    {
     "data": {
      "text/plain": [
       "count     13593.000000\n",
       "mean       8196.422280\n",
       "std        9325.918114\n",
       "min         118.656790\n",
       "25%        3841.375308\n",
       "50%        6256.592133\n",
       "75%        9432.360931\n",
       "max      261879.953864\n",
       "Name: finalwgt, dtype: float64"
      ]
     },
     "execution_count": 36,
     "metadata": {},
     "output_type": "execute_result"
    }
   ],
   "source": [
    "df['finalwgt'].describe()"
   ]
  },
  {
   "cell_type": "code",
   "execution_count": 37,
   "metadata": {},
   "outputs": [],
   "source": [
    "preg06 = df"
   ]
  },
  {
   "cell_type": "code",
   "execution_count": 38,
   "metadata": {},
   "outputs": [
    {
     "data": {
      "text/plain": [
       "(62539, 6)"
      ]
     },
     "execution_count": 38,
     "metadata": {},
     "output_type": "execute_result"
    }
   ],
   "source": [
    "cycles = [preg10, preg09, preg08, preg07, preg06]\n",
    "df = pd.concat(cycles, sort=False, ignore_index=True)\n",
    "df.shape"
   ]
  },
  {
   "cell_type": "code",
   "execution_count": 39,
   "metadata": {},
   "outputs": [
    {
     "data": {
      "text/plain": [
       "43292"
      ]
     },
     "execution_count": 39,
     "metadata": {},
     "output_type": "execute_result"
    }
   ],
   "source": [
    "live = (df['outcome'] == 1)\n",
    "live.sum()"
   ]
  },
  {
   "cell_type": "code",
   "execution_count": 40,
   "metadata": {},
   "outputs": [
    {
     "data": {
      "text/plain": [
       "737"
      ]
     },
     "execution_count": 40,
     "metadata": {},
     "output_type": "execute_result"
    }
   ],
   "source": [
    "multiple = (df['nbrnaliv'] > 1)\n",
    "multiple.sum()"
   ]
  },
  {
   "cell_type": "code",
   "execution_count": 41,
   "metadata": {},
   "outputs": [
    {
     "data": {
      "text/plain": [
       "0.01702393051834057"
      ]
     },
     "execution_count": 41,
     "metadata": {},
     "output_type": "execute_result"
    }
   ],
   "source": [
    "737 / 43292"
   ]
  },
  {
   "cell_type": "code",
   "execution_count": 42,
   "metadata": {},
   "outputs": [
    {
     "data": {
      "text/plain": [
       "11003"
      ]
     },
     "execution_count": 42,
     "metadata": {},
     "output_type": "execute_result"
    }
   ],
   "source": [
    "sec = (df['pregend1'] == 5)\n",
    "sec.sum()"
   ]
  },
  {
   "cell_type": "code",
   "execution_count": 43,
   "metadata": {},
   "outputs": [
    {
     "data": {
      "text/plain": [
       "32220"
      ]
     },
     "execution_count": 43,
     "metadata": {},
     "output_type": "execute_result"
    }
   ],
   "source": [
    "nosec = (df['pregend1'] == 6)\n",
    "nosec.sum()"
   ]
  },
  {
   "cell_type": "code",
   "execution_count": 44,
   "metadata": {},
   "outputs": [
    {
     "data": {
      "text/plain": [
       "42542"
      ]
     },
     "execution_count": 44,
     "metadata": {},
     "output_type": "execute_result"
    }
   ],
   "source": [
    "single = (df['nbrnaliv'] == 1)\n",
    "single.sum()"
   ]
  },
  {
   "cell_type": "code",
   "execution_count": 45,
   "metadata": {},
   "outputs": [
    {
     "data": {
      "text/plain": [
       "31909"
      ]
     },
     "execution_count": 45,
     "metadata": {},
     "output_type": "execute_result"
    }
   ],
   "source": [
    "valid = single & nosec\n",
    "valid.sum()"
   ]
  },
  {
   "cell_type": "code",
   "execution_count": 46,
   "metadata": {},
   "outputs": [
    {
     "data": {
      "text/plain": [
       "31906"
      ]
     },
     "execution_count": 46,
     "metadata": {},
     "output_type": "execute_result"
    }
   ],
   "source": [
    "valid = single & nosec & (df['prglngth'] < 50)\n",
    "valid.sum()"
   ]
  },
  {
   "cell_type": "code",
   "execution_count": null,
   "metadata": {},
   "outputs": [],
   "source": []
  },
  {
   "cell_type": "code",
   "execution_count": 47,
   "metadata": {},
   "outputs": [],
   "source": [
    "def resample_by_cycle(dfs, column='finalwgt'):\n",
    "    samples = [resample_rows_weighted(df, column) for df in dfs]\n",
    "    sample = pd.concat(samples, sort=False, ignore_index=True)\n",
    "    return sample"
   ]
  },
  {
   "cell_type": "code",
   "execution_count": 48,
   "metadata": {},
   "outputs": [
    {
     "data": {
      "text/plain": [
       "(62539, 6)"
      ]
     },
     "execution_count": 48,
     "metadata": {},
     "output_type": "execute_result"
    }
   ],
   "source": [
    "cycles = [preg10, preg09, preg08, preg07, preg06]\n",
    "sample = resample_by_cycle(cycles)\n",
    "sample.shape"
   ]
  },
  {
   "cell_type": "code",
   "execution_count": 49,
   "metadata": {},
   "outputs": [
    {
     "data": {
      "text/plain": [
       "Index(['pregend1', 'nbrnaliv', 'prglngth', 'outcome', 'birthord', 'finalwgt'], dtype='object')"
      ]
     },
     "execution_count": 49,
     "metadata": {},
     "output_type": "execute_result"
    }
   ],
   "source": [
    "sample.columns"
   ]
  },
  {
   "cell_type": "code",
   "execution_count": 50,
   "metadata": {},
   "outputs": [],
   "source": [
    "# if the file already exists, remove it\n",
    "import os\n",
    "\n",
    "if os.path.isfile('nsfg.hdf5'):\n",
    "    !rm nsfg.hdf5"
   ]
  },
  {
   "cell_type": "code",
   "execution_count": 51,
   "metadata": {},
   "outputs": [],
   "source": [
    "# generate and store three resamplings\n",
    "for i in range(101):\n",
    "    np.random.seed(i)\n",
    "    sample = sample = resample_by_cycle(cycles)\n",
    "\n",
    "    key = f'nsfg{i}'\n",
    "    sample.to_hdf('nsfg_samples.hdf5', key)"
   ]
  },
  {
   "cell_type": "code",
   "execution_count": 53,
   "metadata": {},
   "outputs": [
    {
     "name": "stdout",
     "output_type": "stream",
     "text": [
      "CPU times: user 12.4 ms, sys: 16 µs, total: 12.4 ms\n",
      "Wall time: 11.4 ms\n"
     ]
    },
    {
     "data": {
      "text/plain": [
       "(62539, 6)"
      ]
     },
     "execution_count": 53,
     "metadata": {},
     "output_type": "execute_result"
    }
   ],
   "source": [
    "# read back one of the resamplings and time it\n",
    "%time nsfg = pd.read_hdf('nsfg_samples.hdf5', 'nsfg0')\n",
    "nsfg.shape"
   ]
  },
  {
   "cell_type": "code",
   "execution_count": null,
   "metadata": {},
   "outputs": [],
   "source": []
  }
 ],
 "metadata": {
  "kernelspec": {
   "display_name": "Python 3 (ipykernel)",
   "language": "python",
   "name": "python3"
  },
  "language_info": {
   "codemirror_mode": {
    "name": "ipython",
    "version": 3
   },
   "file_extension": ".py",
   "mimetype": "text/x-python",
   "name": "python",
   "nbconvert_exporter": "python",
   "pygments_lexer": "ipython3",
   "version": "3.10.0"
  }
 },
 "nbformat": 4,
 "nbformat_minor": 1
}
